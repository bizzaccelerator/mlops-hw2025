{
 "cells": [
  {
   "cell_type": "markdown",
   "id": "3ad0b4fb",
   "metadata": {},
   "source": [
    "Hey, I'm Jobert Gutierrez and hereafter you'll find the logic and code used to answer the first assignment in the program Machine Learning Operations Zoomcamp offered by Data Talks Club.\n",
    "\n",
    "# Module 1 Homework: General Overview and foundations\n",
    "The goal of this homework is to train a simple model for predicting the duration of a ride - similar to what we did in this module.\n",
    "\n",
    "## Question 1. Downloading the data\n",
    "We'll use the same [NYC taxi dataset](https://www1.nyc.gov/site/tlc/about/tlc-trip-record-data.page), but instead of \"Green Taxi Trip Records\", we'll use \"Yellow Taxi Trip Records\".\n",
    "\n",
    "Download the data for January and February 2023.\n",
    "\n",
    "Read the data for January. How many columns are there?\n",
    "\n",
    "- 16\n",
    "- 17\n",
    "- 18\n",
    "- 19"
   ]
  },
  {
   "cell_type": "markdown",
   "id": "ef021ac7",
   "metadata": {},
   "source": [
    "## Answer:\n",
    "\n",
    "I downloaded the data using this code:"
   ]
  },
  {
   "cell_type": "code",
   "execution_count": null,
   "id": "4e209e39",
   "metadata": {},
   "outputs": [],
   "source": [
    "# For January 2023:\n",
    "python -m wget https://d37ci6vzurychx.cloudfront.net/trip-data/yellow_tripdata_2023-01.parquet\n",
    "\n",
    "# For February 2023:\n",
    "python -m wget https://d37ci6vzurychx.cloudfront.net/trip-data/yellow_tripdata_2023-02.parquet"
   ]
  },
  {
   "cell_type": "markdown",
   "id": "71e03d42",
   "metadata": {},
   "source": [
    "\n",
    "Then, I read the January file as:"
   ]
  },
  {
   "cell_type": "code",
   "execution_count": 4,
   "id": "4599fd6d",
   "metadata": {},
   "outputs": [],
   "source": [
    "# Calling the libraries used:\n",
    "import pandas as pd"
   ]
  },
  {
   "cell_type": "code",
   "execution_count": 6,
   "id": "54c54cfb",
   "metadata": {},
   "outputs": [],
   "source": [
    "df = pd.read_parquet(r'C:/Users/jober/OneDrive/Desktop/mlops-hw2025/Homework_week01/yellow_tripdata_2023-01.parquet')"
   ]
  },
  {
   "cell_type": "markdown",
   "id": "e5d84394",
   "metadata": {},
   "source": [
    "The number of columns is identified using the function:"
   ]
  },
  {
   "cell_type": "code",
   "execution_count": 7,
   "id": "f7761595",
   "metadata": {},
   "outputs": [
    {
     "name": "stdout",
     "output_type": "stream",
     "text": [
      "<class 'pandas.core.frame.DataFrame'>\n",
      "RangeIndex: 3066766 entries, 0 to 3066765\n",
      "Data columns (total 19 columns):\n",
      " #   Column                 Dtype         \n",
      "---  ------                 -----         \n",
      " 0   VendorID               int64         \n",
      " 1   tpep_pickup_datetime   datetime64[us]\n",
      " 2   tpep_dropoff_datetime  datetime64[us]\n",
      " 3   passenger_count        float64       \n",
      " 4   trip_distance          float64       \n",
      " 5   RatecodeID             float64       \n",
      " 6   store_and_fwd_flag     object        \n",
      " 7   PULocationID           int64         \n",
      " 8   DOLocationID           int64         \n",
      " 9   payment_type           int64         \n",
      " 10  fare_amount            float64       \n",
      " 11  extra                  float64       \n",
      " 12  mta_tax                float64       \n",
      " 13  tip_amount             float64       \n",
      " 14  tolls_amount           float64       \n",
      " 15  improvement_surcharge  float64       \n",
      " 16  total_amount           float64       \n",
      " 17  congestion_surcharge   float64       \n",
      " 18  airport_fee            float64       \n",
      "dtypes: datetime64[us](2), float64(12), int64(4), object(1)\n",
      "memory usage: 444.6+ MB\n"
     ]
    }
   ],
   "source": [
    "df.info()"
   ]
  },
  {
   "cell_type": "markdown",
   "id": "5726fdd1",
   "metadata": {},
   "source": [
    "## Question 2. Computing duration\n",
    "Now let's compute the `duration` variable. It should contain the duration of a ride in minutes.\n",
    "\n",
    "What's the standard deviation of the trips duration in January?\n",
    "\n",
    "- 32.59\n",
    "- 42.59\n",
    "- 52.59\n",
    "- 62.59"
   ]
  },
  {
   "cell_type": "markdown",
   "id": "e843ccfe",
   "metadata": {},
   "source": [
    "## Answer:\n",
    "\n",
    "The duration of the trips are calculated:"
   ]
  },
  {
   "cell_type": "code",
   "execution_count": 10,
   "id": "298c7b31",
   "metadata": {},
   "outputs": [
    {
     "data": {
      "text/plain": [
       "42.594351241920904"
      ]
     },
     "execution_count": 10,
     "metadata": {},
     "output_type": "execute_result"
    }
   ],
   "source": [
    "# The amount of time for each ride is:\n",
    "df['duration'] = df.tpep_dropoff_datetime - df.tpep_pickup_datetime\n",
    "\n",
    "# Expressed in mutes is:\n",
    "df.duration = df.duration.apply(lambda td: td.total_seconds() / 60)\n",
    "\n",
    "# The stard deviation of the ride's duration is: \n",
    "df.duration.std()"
   ]
  },
  {
   "cell_type": "markdown",
   "id": "cb4f34e5",
   "metadata": {},
   "source": [
    "\n",
    "df = df[(df.duration >= 1) & (df.duration <= 60)]"
   ]
  }
 ],
 "metadata": {
  "kernelspec": {
   "display_name": "base",
   "language": "python",
   "name": "python3"
  },
  "language_info": {
   "codemirror_mode": {
    "name": "ipython",
    "version": 3
   },
   "file_extension": ".py",
   "mimetype": "text/x-python",
   "name": "python",
   "nbconvert_exporter": "python",
   "pygments_lexer": "ipython3",
   "version": "3.12.7"
  }
 },
 "nbformat": 4,
 "nbformat_minor": 5
}
