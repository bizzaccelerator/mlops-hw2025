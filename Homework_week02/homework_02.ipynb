{
 "cells": [
  {
   "cell_type": "markdown",
   "id": "3ad0b4fb",
   "metadata": {},
   "source": [
    "Hey, I'm Jobert Gutierrez and hereafter you'll find the logic and code used to answer the second assignment in the program Machine Learning Operations Zoomcamp offered by Data Talks Club.\n",
    "\n",
    "# Module 2 Homework: Experiment tracking\n",
    "The goal of this homework is to get familiar with MLflow, the tool for experiment tracking and model management.\n",
    "\n",
    "## Question 1. Install ML Flow\n",
    "To get started with MLflow you'll need to install the MLflow Python package.\n",
    "\n",
    "For this we recommend creating a separate Python environment, for example, you can use [conda environments](https://docs.conda.io/projects/conda/en/latest/user-guide/getting-started.html#managing-envs), and then install the package there with `pip` or `conda`.\n",
    "\n",
    "Once you installed the package, run the command `mlflow --version` and check the output.\n",
    "\n",
    "What's the version that you have?"
   ]
  },
  {
   "cell_type": "markdown",
   "id": "ef021ac7",
   "metadata": {},
   "source": [
    "## Answer:\n",
    "\n",
    "I used the following command to create a new environment _conda create -n exp-tracking_. Then, I installed the dependencies indicated in _requierements.txt_ typing: \n",
    "\n",
    "_conda install -c conda-forge mlflow scikit-learn pandas seaborn hyperopt xgboost fastparquet boto3_\n",
    "\n",
    "Using the recommended command, I got the following version :"
   ]
  },
  {
   "cell_type": "code",
   "execution_count": null,
   "id": "980aee40",
   "metadata": {},
   "outputs": [],
   "source": [
    "mlflow --version"
   ]
  },
  {
   "cell_type": "markdown",
   "id": "93f738c9",
   "metadata": {},
   "source": [
    "Then, I got the the version  __mlflow, version 2.22.0__."
   ]
  },
  {
   "cell_type": "markdown",
   "id": "e008945e",
   "metadata": {},
   "source": [
    "## Question 2. Download and preprocess the data\n",
    "We'll use the Yellow Taxi Trip Records dataset to predict the duration of each trip.\n",
    "\n",
    "Download the data for January, February and March 2023 in parquet format from [here](https://www1.nyc.gov/site/tlc/about/tlc-trip-record-data.page).\n",
    "\n",
    "Use the script `preprocess_data.py` located in the folder _homework_ to preprocess the data.\n",
    "\n",
    "The script will:\n",
    "\n",
    "- load the data from the folder <TAXI_DATA_FOLDER> (the folder where you have downloaded the data),\n",
    "- fit a DictVectorizer on the training set (January 2023 data),\n",
    "- save the preprocessed datasets and the DictVectorizer to disk.\n",
    "\n",
    "Your task is to download the datasets and then execute this command:\n",
    "\n",
    "```\n",
    "python preprocess_data.py --raw_data_path <TAXI_DATA_FOLDER> --dest_path ./output\n",
    "```\n",
    "\n",
    "Tip: go to `02-experiment-tracking/homework/` folder before executing the command and change the value of <TAXI_DATA_FOLDER> to the location where you saved the data.\n",
    "\n",
    "How many files were saved to OUTPUT_FOLDER?\n",
    "\n",
    "- 1\n",
    "- 3\n",
    "- 4\n",
    "- 7"
   ]
  },
  {
   "cell_type": "markdown",
   "id": "390d2092",
   "metadata": {},
   "source": [
    "## Answer:\n",
    "\n",
    "I used the following command to create a new environment _conda create -n exp-tracking_. Then, I installed the dependencies indicated in _requierements.txt_ typing: \n",
    "\n",
    "_conda install -c conda-forge mlflow scikit-learn pandas seaborn hyperopt xgboost fastparquet boto3_\n",
    "\n",
    "Using the recommended command, I got the following version :"
   ]
  },
  {
   "cell_type": "code",
   "execution_count": null,
   "id": "ff8ed685",
   "metadata": {},
   "outputs": [],
   "source": []
  }
 ],
 "metadata": {
  "kernelspec": {
   "display_name": "base",
   "language": "python",
   "name": "python3"
  },
  "language_info": {
   "codemirror_mode": {
    "name": "ipython",
    "version": 3
   },
   "file_extension": ".py",
   "mimetype": "text/x-python",
   "name": "python",
   "nbconvert_exporter": "python",
   "pygments_lexer": "ipython3",
   "version": "3.12.7"
  }
 },
 "nbformat": 4,
 "nbformat_minor": 5
}
